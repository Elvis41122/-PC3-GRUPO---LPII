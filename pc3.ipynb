{
 "cells": [
  {
   "cell_type": "code",
   "execution_count": null,
   "id": "b3e9979e",
   "metadata": {},
   "outputs": [],
   "source": [
    "import pandas as pd\n",
    "import numpy as np\n",
    "import matplotlib.pyplot as ptl\n",
    "import seaborn as sns\n",
    "from urllib.request import urlopen\n",
    "from bs4 import BeautifulSoup as soup\n",
    "import requests\n",
    "import json\n",
    "\n",
    "# https://api.covidtracking.com/v1/us/daily.json\n",
    "url='https://api.covidtracking.com/v1/us/daily.json'\n",
    "uclient=urlopen(url)\n",
    "responsehtml=uclient.read()\n",
    "uclient.close()\n",
    "info=json.loads(responsehtml.decode())              #la respuesta se da en una lista de diccionarios, cada una para cada dato\n",
    "df=pd.DataFrame(info)                               #creando un df para la info de todos los datos\n",
    "df_prueba=df[['date','hospitalizedIncrease',\"positive\",\"hospitalized\"'pending',\"deathIncrease\",\"death\",\"totalTestResultsIncrease\",\"totalTestResults\"]]        # extraendo todas las columnas a utilizar\n",
    "df_go=df_prueba.rename(columns={\"date\":\"fecha\",\n",
    "                         \"positive\":\"positivo_totales\",\n",
    "                               \"hospitalizedIncrease\":\"positivo_por_dia\",\n",
    "                                \"hospitalizedIncrease\":\"hospitalizados_por_Dia\",\n",
    "                               \"hospitalized\":\"hospitalizados\",\n",
    "                                \"pending\":\"pendientes\",\n",
    "                               \"death\":\"muertes_totales\",\n",
    "                               \"deathIncrease\":\"muertes_por_Dia\",\n",
    "                               \"totalTestResultsIncrease\":\"pruebas_por_dia\",\n",
    "                               \"totalTestResults\":\"Total_pruebas\"})\n",
    "df_go                         \n"
   ]
  }
 ],
 "metadata": {
  "kernelspec": {
   "display_name": "Python 3",
   "language": "python",
   "name": "python3"
  },
  "language_info": {
   "codemirror_mode": {
    "name": "ipython",
    "version": 3
   },
   "file_extension": ".py",
   "mimetype": "text/x-python",
   "name": "python",
   "nbconvert_exporter": "python",
   "pygments_lexer": "ipython3",
   "version": "3.10.8 (tags/v3.10.8:aaaf517, Oct 11 2022, 16:50:30) [MSC v.1933 64 bit (AMD64)]"
  },
  "vscode": {
   "interpreter": {
    "hash": "66eba28a75a64fbe1a9b9c30d27f7c856726c51cbbef86297708eae4ce175db0"
   }
  }
 },
 "nbformat": 4,
 "nbformat_minor": 5
}
