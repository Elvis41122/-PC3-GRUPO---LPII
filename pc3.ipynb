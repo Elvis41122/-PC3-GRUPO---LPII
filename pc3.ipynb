{
 "cells": [
  {
   "cell_type": "code",
   "execution_count": null,
   "id": "b3e9979e",
   "metadata": {},
   "outputs": [],
   "source": [
    "import pandas as pd\n",
    "import numpy as np\n",
    "import matplotlib.pyplot as ptl\n",
    "import seaborn as sns\n",
    "from urllib.request import urlopen\n",
    "from bs4 import BeautifulSoup as soup\n",
    "import requests\n",
    "import json\n",
    "\n",
    "# https://api.covidtracking.com/v1/us/daily.json\n",
    "url='https://api.covidtracking.com/v1/us/daily.json'\n",
    "uclient=urlopen(url)\n",
    "responsehtml=uclient.read()\n",
    "uclient.close()\n",
    "info=json.loads(responsehtml.decode())              #la respuesta se da en una lista de diccionarios, cada una para cada dato"
   ]
  }
 ],
 "metadata": {
  "kernelspec": {
   "display_name": "Python 3 (ipykernel)",
   "language": "python",
   "name": "python3"
  },
  "language_info": {
   "codemirror_mode": {
    "name": "ipython",
    "version": 3
   },
   "file_extension": ".py",
   "mimetype": "text/x-python",
   "name": "python",
   "nbconvert_exporter": "python",
   "pygments_lexer": "ipython3",
   "version": "3.9.12"
  }
 },
 "nbformat": 4,
 "nbformat_minor": 5
}
