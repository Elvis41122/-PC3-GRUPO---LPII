{
 "cells": [
  {
   "cell_type": "code",
   "execution_count": 1,
   "id": "b3e9979e",
   "metadata": {},
   "outputs": [
    {
     "ename": "ModuleNotFoundError",
     "evalue": "No module named 'pandas'",
     "output_type": "error",
     "traceback": [
      "\u001b[1;31m---------------------------------------------------------------------------\u001b[0m",
      "\u001b[1;31mModuleNotFoundError\u001b[0m                       Traceback (most recent call last)",
      "Cell \u001b[1;32mIn[1], line 1\u001b[0m\n\u001b[1;32m----> 1\u001b[0m \u001b[39mimport\u001b[39;00m \u001b[39mpandas\u001b[39;00m \u001b[39mas\u001b[39;00m \u001b[39mpd\u001b[39;00m\n\u001b[0;32m      2\u001b[0m \u001b[39mimport\u001b[39;00m \u001b[39mnumpy\u001b[39;00m \u001b[39mas\u001b[39;00m \u001b[39mnp\u001b[39;00m\n\u001b[0;32m      3\u001b[0m \u001b[39mimport\u001b[39;00m \u001b[39mmatplotlib\u001b[39;00m\u001b[39m.\u001b[39;00m\u001b[39mpyplot\u001b[39;00m \u001b[39mas\u001b[39;00m \u001b[39mptl\u001b[39;00m\n",
      "\u001b[1;31mModuleNotFoundError\u001b[0m: No module named 'pandas'"
     ]
    }
   ],
   "source": [
    "import pandas as pd\n",
    "import numpy as np\n",
    "import matplotlib.pyplot as ptl\n",
    "import seaborn as sns\n",
    "from urllib.request import urlopen\n",
    "from bs4 import BeautifulSoup as soup\n",
    "import requests\n",
    "import json\n",
    "\n",
    "# https://api.covidtracking.com/v1/us/daily.json\n",
    "url='https://api.covidtracking.com/v1/us/daily.json'\n",
    "uclient=urlopen(url)\n",
    "responsehtml=uclient.read()\n",
    "uclient.close()\n",
    "info=json.loads(responsehtml.decode())              #la respuesta se da en una lista de diccionarios, cada una para cada dato\n",
    "df=pd.DataFrame(info)                               #creando un df para la info de todos los datos\n",
    "df_prueba=df[['date','hospitalizedIncrease',\"positive\",\"hospitalized\"'pending',\"deathIncrease\",\"death\",\"totalTestResultsIncrease\",\"totalTestResults\"]]        # extraendo todas las columnas a utilizar\n",
    "df_go=df_prueba.rename(columns={\"date\":\"fecha\",\n",
    "                         \"positive\":\"positivo_totales\",\n",
    "                               \"hospitalizedIncrease\":\"positivo_por_dia\",\n",
    "                                \"hospitalizedIncrease\":\"hospitalizados_por_Dia\",\n",
    "                               \"hospitalized\":\"hospitalizados\",\n",
    "                                \"pending\":\"pendientes\",\n",
    "                               \"death\":\"muertes_totales\",\n",
    "                               \"deathIncrease\":\"muertes_por_Dia\",\n",
    "                               \"totalTestResultsIncrease\":\"pruebas_por_dia\",\n",
    "                               \"totalTestResults\":\"Total_pruebas\"})\n",
    "df_go                         \n"
   ]
  }
 ],
 "metadata": {
  "kernelspec": {
   "display_name": "Python 3",
   "language": "python",
   "name": "python3"
  },
  "language_info": {
   "codemirror_mode": {
    "name": "ipython",
    "version": 3
   },
   "file_extension": ".py",
   "mimetype": "text/x-python",
   "name": "python",
   "nbconvert_exporter": "python",
   "pygments_lexer": "ipython3",
   "version": "3.10.8"
  },
  "vscode": {
   "interpreter": {
    "hash": "66eba28a75a64fbe1a9b9c30d27f7c856726c51cbbef86297708eae4ce175db0"
   }
  }
 },
 "nbformat": 4,
 "nbformat_minor": 5
}
